{
    "cells": [
        {
            "cell_type": "markdown",
            "metadata": {},
            "source": "# Peer-graded Assignment: Segmenting and Clustering Neighborhoods in Toronto"
        },
        {
            "cell_type": "markdown",
            "metadata": {},
            "source": "## Part 1"
        },
        {
            "cell_type": "markdown",
            "metadata": {},
            "source": "Import dependencies"
        },
        {
            "cell_type": "code",
            "execution_count": 2,
            "metadata": {},
            "outputs": [],
            "source": "import pandas as pd\nfrom bs4 import BeautifulSoup\nimport requests"
        },
        {
            "cell_type": "markdown",
            "metadata": {},
            "source": "The request library is used to load the HTML code from wikipedia and then BeautifulSoup is used to load the data into a dataframe"
        },
        {
            "cell_type": "code",
            "execution_count": null,
            "metadata": {},
            "outputs": [],
            "source": "url = 'https://en.wikipedia.org/wiki/List_of_postal_codes_of_Canada:_M'\n\nhtml = requests.get(url).text\n\nsoup = BeautifulSoup(html, 'html.parser')\n\n# define the dataframe columns\ncolumn_names = ['PostalCode', 'Borough', 'Neighborhood'] \n\n# instantiate the dataframe\ntoronto_neighborhoods = pd.DataFrame(columns=column_names)\n\ndata = []\ntable = soup.find('table', attrs={'class':'wikitable sortable'})\ntable_body = table.find('tbody')\n\n# read all rows and store them into the dataframe\nrows = table_body.find_all('tr')\nfor row in rows:\n    cols = row.find_all('td')\n    cols = [ele.text.strip() for ele in cols]\n    if cols != []:\n        toronto_neighborhoods = toronto_neighborhoods.append({'Borough': cols[1],\n                                          'Neighborhood': cols[2],\n                                          'PostalCode': cols[0]}, ignore_index=True)"
        },
        {
            "cell_type": "markdown",
            "metadata": {},
            "source": "Only the rows with Borough assigned are used, and the rows with Neighborhood as \"Not assigned\" are replaced by the name of the Borough"
        },
        {
            "cell_type": "code",
            "execution_count": 21,
            "metadata": {},
            "outputs": [],
            "source": "toronto_neighborhoods = toronto_neighborhoods.loc[(toronto_neighborhoods['Borough'] != 'Not assigned')]\ntoronto_neighborhoods.loc[(toronto_neighborhoods['Neighborhood'] == 'Not assigned'), 'Neighborhood'] = toronto_neighborhoods.loc[(toronto_neighborhoods['Neighborhood'] == 'Not assigned')]['Borough'].values"
        },
        {
            "cell_type": "markdown",
            "metadata": {},
            "source": "Grouping all neighbourhoods with the same postal code"
        },
        {
            "cell_type": "code",
            "execution_count": 18,
            "metadata": {},
            "outputs": [],
            "source": "toronto_neighborhoods = toronto_neighborhoods.groupby(['PostalCode', 'Borough']).Neighborhood.agg([('Neighborhood', ', '.join)])"
        },
        {
            "cell_type": "code",
            "execution_count": 20,
            "metadata": {},
            "outputs": [
                {
                    "data": {
                        "text/plain": "(210, 3)"
                    },
                    "execution_count": 20,
                    "metadata": {},
                    "output_type": "execute_result"
                }
            ],
            "source": "toronto_neighborhoods.shape\n"
        },
        {
            "cell_type": "markdown",
            "metadata": {},
            "source": "## Part 2"
        },
        {
            "cell_type": "code",
            "execution_count": null,
            "metadata": {},
            "outputs": [],
            "source": ""
        }
    ],
    "metadata": {
        "kernelspec": {
            "display_name": "Python 3.6",
            "language": "python",
            "name": "python3"
        },
        "language_info": {
            "codemirror_mode": {
                "name": "ipython",
                "version": 3
            },
            "file_extension": ".py",
            "mimetype": "text/x-python",
            "name": "python",
            "nbconvert_exporter": "python",
            "pygments_lexer": "ipython3",
            "version": "3.6.8"
        }
    },
    "nbformat": 4,
    "nbformat_minor": 1
}